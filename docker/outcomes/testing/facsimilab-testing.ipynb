{
	"cells": [
		{
			"cell_type": "markdown",
			"metadata": {
				"id": "y4nH3q_rZ0bI"
			},
			"source": [
				"# Testing the FacsimiLab Container\n",
				"\n",
				"This jupyter notebook is designed to test the FacsimiLab docker container's ability to analyze single-cell RNA sequencing (scRNAseq) data. It utilizes `scvi`, `scanpy`, and `pytorch`.\n"
			]
		},
		{
			"cell_type": "markdown",
			"metadata": {},
			"source": [
				"This jupyter notebook is a modification of the scverse tutorial called [Introduction to scvi-tools](https://docs.scvi-tools.org/en/stable/tutorials/notebooks/quick_start/api_overview.html). The original source code is available [on Github](https://github.com/scverse/scvi-tutorials/blob/c62f43f1c8c58710d99afe2e0d374c17a587b566/quick_start/api_overview.ipynb). We'd like to thank the YosefLab for their incredible tools and resources. This tutorial notebooks is licensed with **BSD 3-Clause License** and a complete copy of their license can be found at the end of this notebook.\n"
			]
		},
		{
			"cell_type": "code",
			"execution_count": null,
			"metadata": {
				"colab": {
					"base_uri": "https://localhost:8080/"
				},
				"execution": {
					"iopub.execute_input": "2023-12-07T00:42:38.484280Z",
					"iopub.status.busy": "2023-12-07T00:42:38.484175Z",
					"iopub.status.idle": "2023-12-07T00:42:41.665347Z",
					"shell.execute_reply": "2023-12-07T00:42:41.664885Z"
				},
				"id": "fKv83AN6hcWO",
				"outputId": "b3a5ee4e-c713-4ad7-a87e-832102335655"
			},
			"outputs": [],
			"source": [
				"import os\n",
				"import sys\n",
				"import tempfile\n",
				"from IPython.display import display, Markdown\n",
				"\n",
				"import scanpy as sc\n",
				"import scvi\n",
				"import torch"
			]
		},
		{
			"cell_type": "code",
			"execution_count": null,
			"metadata": {},
			"outputs": [],
			"source": [
				"import jax\n",
				"import jaxlib\n",
				"import flax\n",
				"\n",
				"# Print library versions\n",
				"print(\"JAX version:\", jax.__version__)\n",
				"print(\"JAXlib version:\", jaxlib.__version__)\n",
				"print(\"Flax version:\", flax.__version__)\n",
				"print(\"PyTorch version:\", torch.__version__)\n",
				"\n",
				"print(\"PyTorch CUDA version:\", torch.version.cuda)\n",
				"print(\"scVI version:\", scvi.__version__)\n",
				"print(\"Scanpy version:\", sc.__version__)"
			]
		},
		{
			"cell_type": "markdown",
			"metadata": {},
			"source": [
				"## GPU accelerated analysis\n",
				"\n",
				"The following code is designed to evaluate the presence of an Nvidia GPU with CUDA support.\n"
			]
		},
		{
			"cell_type": "code",
			"execution_count": null,
			"metadata": {},
			"outputs": [],
			"source": [
				"# Check if Pytorch has succssfully detected and loaded an Nvidia GPU with CUDA support\n",
				"if torch.cuda.is_available():\n",
				"\n",
				"    display(Markdown(\"## Facsimilab: Nvidia CUDA GPU Detected\"))\n",
				"    display(Markdown(f\"GPU Name: {torch.cuda.get_device_name(0)}\"))\n",
				"    display(Markdown(f\"GPU Available: {torch.cuda.is_available()}\"))\n",
				"\n",
				"    display(Markdown(\"### System Information\"))\n",
				"\n",
				"    display(Markdown(f\"- Python version: `{sys.version}` \\n - PyTorch version: `{torch.__version__}`\\n - CUDNN version: `{torch.backends.cudnn.version()}`\\n - Number CUDA Devices: `{torch.cuda.device_count()}`\"))\n",
				"\n",
				"    display(Markdown(\"### Devices\"))\n",
				"\n",
				"    display(Markdown(f\"- Available devices `{torch.cuda.device_count()}`\\n - Active CUDA device: `{torch.cuda.current_device()}`\"))\n",
				"\n",
				"    display(Markdown(\"Python starts numbering from '0'. Therefore, the `Active CUDA device` name/number is expected to be `0` above.\"))\n",
				"\n",
				"else:\n",
				"    display(Markdown(\"## No CUDA GPU Detected\"))\n",
				"    display(Markdown(\"This notebook will use the CPU instead of the GPU. Analysis time is expected to be _**significantly longer, but still possible.**_\"))\n",
				"\n",
				"    display(Markdown(f\"GPU Available: {torch.cuda.is_available()}\"))\n",
				"\n",
				"    display(Markdown(\"### System Information\"))\n",
				"\n",
				"    display(Markdown(f\"- Python version: `{sys.version}` \\n - PyTorch version: `{torch.__version__}`\\n - CUDNN version: `{torch.backends.cudnn.version()}`\\n - Number CUDA Devices: `{torch.cuda.device_count()}`\"))"
			]
		},
		{
			"cell_type": "markdown",
			"metadata": {},
			"source": [
				"## Initialize `scvi`\n"
			]
		},
		{
			"cell_type": "code",
			"execution_count": null,
			"metadata": {
				"execution": {
					"iopub.execute_input": "2023-12-07T00:42:41.667259Z",
					"iopub.status.busy": "2023-12-07T00:42:41.666967Z",
					"iopub.status.idle": "2023-12-07T00:42:41.670596Z",
					"shell.execute_reply": "2023-12-07T00:42:41.670183Z"
				}
			},
			"outputs": [],
			"source": [
				"scvi.settings.seed = 0\n",
				"print(\"Last run with scvi-tools version:\", scvi.__version__)"
			]
		},
		{
			"cell_type": "markdown",
			"metadata": {},
			"source": [
				"You can modify `save_dir` below to change where the data files for this tutorial are saved.\n"
			]
		},
		{
			"cell_type": "code",
			"execution_count": null,
			"metadata": {
				"execution": {
					"iopub.execute_input": "2023-12-07T00:42:41.689062Z",
					"iopub.status.busy": "2023-12-07T00:42:41.688938Z",
					"iopub.status.idle": "2023-12-07T00:42:41.697311Z",
					"shell.execute_reply": "2023-12-07T00:42:41.696889Z"
				}
			},
			"outputs": [],
			"source": [
				"sc.set_figure_params(figsize=(4, 4))\n",
				"torch.set_float32_matmul_precision(\"high\")\n",
				"save_dir = tempfile.TemporaryDirectory()\n",
				"\n",
				"# for white background of figures (only for docs rendering)\n",
				"%config InlineBackend.print_figure_kwargs={'facecolor' : \"w\"}\n",
				"%config InlineBackend.figure_format='retina'"
			]
		},
		{
			"cell_type": "markdown",
			"metadata": {
				"id": "oPGuX2wPZ0bS"
			},
			"source": [
				"## Loading and preparing data\n",
				"\n",
				"Let us first load a subsampled version of the heart cell atlas dataset described in Litviňuková et al. (2020). scvi-tools has many \"built-in\" datasets as well as support for loading arbitrary `.csv`, `.loom`, and `.h5ad` (AnnData) files. Please see our tutorial on data loading for more examples.\n",
				"\n",
				"-   Litviňuková, M., Talavera-López, C., Maatz, H., Reichart, D., Worth, C. L., Lindberg, E. L., ... & Teichmann, S. A. (2020). Cells of the adult human heart. Nature, 588(7838), 466-472.\n"
			]
		},
		{
			"attachments": {},
			"cell_type": "markdown",
			"metadata": {
				"id": "CKEgQJG3mVJh"
			},
			"source": [
				"```{important}\n",
				"All scvi-tools models require AnnData objects as input.\n",
				"```\n"
			]
		},
		{
			"cell_type": "code",
			"execution_count": null,
			"metadata": {},
			"outputs": [],
			"source": [
				"data_directory = \"./data\""
			]
		},
		{
			"cell_type": "code",
			"execution_count": null,
			"metadata": {
				"colab": {
					"base_uri": "https://localhost:8080/"
				},
				"execution": {
					"iopub.execute_input": "2023-12-07T00:42:41.698809Z",
					"iopub.status.busy": "2023-12-07T00:42:41.698704Z",
					"iopub.status.idle": "2023-12-07T00:42:43.763846Z",
					"shell.execute_reply": "2023-12-07T00:42:43.763408Z"
				},
				"id": "HZPOlSs2nAez",
				"outputId": "ecae5cda-3e44-4f91-e945-51a4f148c90d"
			},
			"outputs": [],
			"source": [
				"adata = scvi.data.heart_cell_atlas_subsampled(save_path=data_directory)\n",
				"adata"
			]
		},
		{
			"cell_type": "code",
			"execution_count": null,
			"metadata": {},
			"outputs": [],
			"source": [
				"adata.write_h5ad(\n",
				"        f\"./data/heart_cell_atlas_subsampled.h5ad\"\n",
				"    )"
			]
		},
		{
			"cell_type": "code",
			"execution_count": null,
			"metadata": {},
			"outputs": [],
			"source": [
				"verbosity=True"
			]
		},
		{
			"cell_type": "code",
			"execution_count": null,
			"metadata": {},
			"outputs": [],
			"source": [
				"def detect_doublets(sample_name, sample_file_path):\n",
				"\n",
				"    adata = sc.read_h5ad(sample_file_path)\n",
				"    display(f'Loaded: {sample_file_path}')\n",
				"\n",
				"    # Train the model\n",
				"    scvi.model.SCVI.setup_anndata(adata)\n",
				"    vae = scvi.model.SCVI(adata)\n",
				"    vae.train()\n",
				"\n",
				"    solo = scvi.external.SOLO.from_scvi_model(vae)\n",
				"    solo.train()\n",
				"\n",
				"    # See if we have doublets\n",
				"    doublets = solo.predict()\n",
				"    doublets[\"prediction\"] = solo.predict(soft=False)\n",
				"\n",
				"    # Strip off the \"-1\" which is on the barcodes\n",
				"    doublets.index = doublets.index.map(lambda x: x[:-2])\n",
				"\n",
				"    if verbosity == True:\n",
				"        display(doublets)\n",
				"\n",
				"    # Count the number of doublets\n",
				"    display(doublets.groupby(\"prediction\").count())\n",
				"\n",
				"    # Create a doublet \"difference\" score parameter in `df.[\"DSS\"]`\n",
				"    doublets[\"DSS\"] = doublets[\"doublet\"] - doublets[\"singlet\"]\n",
				"    doublets\n",
				"    if verbosity == True:\n",
				"        display(doublets)\n",
				"\n",
				"\n",
				"\n",
				"    # Create a new column to contain a cell barcode starting with the sample name\n",
				"    adata.obs['Cell_Barcode'] = sample_name\n",
				"    # Append the index (cell barcode) to the sample name in each row\n",
				"    adata.obs['Cell_Barcode'] = adata.obs['Cell_Barcode'].map(str) + \"_\" + adata.obs.index\n",
				"\n",
				"    # Strip off the \"-1\" which is on the barcodes\n",
				"    adata.obs['Cell_Barcode'] = adata.obs['Cell_Barcode'].map(lambda x: x[:-2])\n",
				"\n",
				"    # Confirm the number of unique barcodes (should equal the number of rows)\n",
				"    display(f\"All `adata.obs` rows have a unique barcode: {len(adata.obs['Cell_Barcode'].unique()) == adata.obs.shape[0]} ({len(adata.obs['Cell_Barcode'].unique())} cells barcoded)\")\n",
				"\n",
				"    # Create a new column to contain a cell barcode starting with the sample name\n",
				"    doublets['Cell_Barcode'] = sample_name\n",
				"\n",
				"    # Append the index (cell barcode) to the sample name in each row\n",
				"    doublets['Cell_Barcode'] = doublets['Cell_Barcode'].map(str) + \"_\" + doublets.index\n",
				"\n",
				"\n",
				"    # Confirm the number of unique barcodes (should equal the number of rows)\n",
				"    display(f\"All `doublets` rows have a unique barcode: {len(doublets['Cell_Barcode'].unique()) == doublets.shape[0]} ({len(doublets['Cell_Barcode'].unique())} cells barcoded)\")\n",
				"\n",
				"    # Confirm that the doublets dataframe has the same barcodes as the adata.obs dataframe\n",
				"    display(f\"Do adata.obs and doublets have the same barcodes?\\n{doublets['Cell_Barcode'].isin(adata.obs['Cell_Barcode']).value_counts()}\")\n",
				"\n",
				"    # Merge the doublets dataframe into adata.obs\n",
				"    adata.obs = pd.merge(adata.obs, doublets, on='Cell_Barcode')\n",
				"\n",
				"    # Make the cell barcodes be the index column\n",
				"    adata.obs.set_index('Cell_Barcode')\n",
				"\n",
				"    return adata, doublets"
			]
		},
		{
			"cell_type": "code",
			"execution_count": null,
			"metadata": {},
			"outputs": [],
			"source": [
				"import scvi\n",
				"from scipy.sparse import csr_matrix\n",
				"import pandas as pd"
			]
		},
		{
			"cell_type": "code",
			"execution_count": null,
			"metadata": {},
			"outputs": [],
			"source": [
				"detect_doublets(\"heart1\", \"./data/heart_cell_atlas_subsampled.h5ad\")"
			]
		},
		{
			"attachments": {},
			"cell_type": "markdown",
			"metadata": {
				"id": "USVZNzYFqWby"
			},
			"source": [
				"Now we preprocess the data to remove, for example, genes that are very lowly expressed and other outliers. For these tasks we prefer the [Scanpy preprocessing module](https://scanpy.readthedocs.io/en/stable/api.html#module-scanpy.pp).\n"
			]
		},
		{
			"cell_type": "code",
			"execution_count": null,
			"metadata": {
				"execution": {
					"iopub.execute_input": "2023-12-07T00:42:43.765433Z",
					"iopub.status.busy": "2023-12-07T00:42:43.765318Z",
					"iopub.status.idle": "2023-12-07T00:42:43.929963Z",
					"shell.execute_reply": "2023-12-07T00:42:43.929438Z"
				},
				"id": "6l5MYjxEqTcp"
			},
			"outputs": [],
			"source": [
				"sc.pp.filter_genes(adata, min_counts=3)"
			]
		},
		{
			"cell_type": "markdown",
			"metadata": {
				"id": "7_JMKQMBqp02"
			},
			"source": [
				"In scRNA-seq analysis, it's popular to normalize the data. These values are not used by scvi-tools, but given their popularity in other tasks as well as for visualization, we store them in the anndata object separately (via the `.raw` attribute).\n"
			]
		},
		{
			"attachments": {},
			"cell_type": "markdown",
			"metadata": {
				"id": "hu4Dcg8QnNsz"
			},
			"source": [
				"```{important}\n",
				"Unless otherwise specified, scvi-tools models require the raw counts (not log library size normalized). scvi-tools models will run for non-negative real-valued data, but we strongly suggest checking that these possibly non-count values are intended to represent pseudocounts (e.g. SoupX-corrected counts), and not some other normalized data, in which the variance/covariance structure of the data has changed dramatically.\n",
				"```\n"
			]
		},
		{
			"cell_type": "code",
			"execution_count": null,
			"metadata": {
				"execution": {
					"iopub.execute_input": "2023-12-07T00:42:43.931732Z",
					"iopub.status.busy": "2023-12-07T00:42:43.931618Z",
					"iopub.status.idle": "2023-12-07T00:42:44.206679Z",
					"shell.execute_reply": "2023-12-07T00:42:44.206225Z"
				},
				"id": "QXIxM_VgqovL"
			},
			"outputs": [],
			"source": [
				"adata.layers[\"counts\"] = adata.X.copy()  # preserve counts\n",
				"sc.pp.normalize_total(adata, target_sum=1e4)\n",
				"sc.pp.log1p(adata)\n",
				"adata.raw = adata  # freeze the state in `.raw`"
			]
		},
		{
			"cell_type": "markdown",
			"metadata": {
				"id": "7ocFplFetywZ"
			},
			"source": [
				"Finally, we perform feature selection, to reduce the number of features (genes in this case) used as input to the scvi-tools model. For best practices of how/when to perform feature selection, please refer to the model-specific tutorial. For scVI, we recommend anywhere from 1,000 to 10,000 HVGs, but it will be context-dependent.\n"
			]
		},
		{
			"cell_type": "code",
			"execution_count": null,
			"metadata": {
				"execution": {
					"iopub.execute_input": "2023-12-07T00:42:44.208378Z",
					"iopub.status.busy": "2023-12-07T00:42:44.208259Z",
					"iopub.status.idle": "2023-12-07T00:42:45.633599Z",
					"shell.execute_reply": "2023-12-07T00:42:45.633123Z"
				},
				"id": "j8gBNU_7txZU"
			},
			"outputs": [],
			"source": [
				"sc.pp.highly_variable_genes(\n",
				"    adata,\n",
				"    n_top_genes=1200,\n",
				"    subset=True,\n",
				"    layer=\"counts\",\n",
				"    flavor=\"seurat_v3\",\n",
				"    batch_key=\"cell_source\",\n",
				")"
			]
		},
		{
			"cell_type": "markdown",
			"metadata": {
				"id": "RcUzIOGbrKMf"
			},
			"source": [
				"Now it's time to run `setup_anndata()`, which alerts scvi-tools to the locations of various matrices inside the anndata. It's important to run this function with the correct arguments so scvi-tools is notified that your dataset has batches, annotations, etc. For example, if batches are registered with scvi-tools, the subsequent model will correct for batch effects. See the full documentation for details.\n",
				"\n",
				"In this dataset, there is a \"cell_source\" categorical covariate, and within each \"cell_source\", multiple \"donors\", \"gender\" and \"age_group\". There are also two continuous covariates we'd like to correct for: \"percent_mito\" and \"percent_ribo\". These covariates can be registered using the `categorical_covariate_keys` argument. If you only have one categorical covariate, you can also use the `batch_key` argument instead.\n"
			]
		},
		{
			"cell_type": "code",
			"execution_count": null,
			"metadata": {
				"execution": {
					"iopub.execute_input": "2023-12-07T00:42:45.635320Z",
					"iopub.status.busy": "2023-12-07T00:42:45.635202Z",
					"iopub.status.idle": "2023-12-07T00:42:45.773023Z",
					"shell.execute_reply": "2023-12-07T00:42:45.772577Z"
				},
				"id": "d46OgftwrJhl"
			},
			"outputs": [],
			"source": [
				"scvi.model.SCVI.setup_anndata(\n",
				"    adata,\n",
				"    layer=\"counts\",\n",
				"    categorical_covariate_keys=[\"cell_source\", \"donor\"],\n",
				"    continuous_covariate_keys=[\"percent_mito\", \"percent_ribo\"],\n",
				")"
			]
		},
		{
			"attachments": {},
			"cell_type": "markdown",
			"metadata": {
				"id": "RVHQRTbGowQC"
			},
			"source": [
				"```{warning}\n",
				"If the adata is modified after running `setup_anndata`, please run `setup_anndata` again, before creating an instance of a model.\n",
				"```\n"
			]
		},
		{
			"cell_type": "markdown",
			"metadata": {
				"id": "RAWmYvjkZ0bW"
			},
			"source": [
				"## Creating and training a model\n",
				"\n",
				"While we highlight the scVI model here, the API is consistent across all scvi-tools models and is inspired by that of [scikit-learn](https://scikit-learn.org/stable/). For a full list of options, see the scvi [documentation](https://scvi-tools.org).\n"
			]
		},
		{
			"cell_type": "code",
			"execution_count": null,
			"metadata": {
				"execution": {
					"iopub.execute_input": "2023-12-07T00:42:45.774644Z",
					"iopub.status.busy": "2023-12-07T00:42:45.774533Z",
					"iopub.status.idle": "2023-12-07T00:42:45.785405Z",
					"shell.execute_reply": "2023-12-07T00:42:45.785003Z"
				},
				"id": "xPnlTctkZ0bX"
			},
			"outputs": [],
			"source": [
				"model = scvi.model.SCVI(adata)"
			]
		},
		{
			"cell_type": "markdown",
			"metadata": {
				"id": "vTQ8KwoNr5_K"
			},
			"source": [
				"We can see an overview of the model by printing it.\n"
			]
		},
		{
			"cell_type": "code",
			"execution_count": null,
			"metadata": {
				"colab": {
					"base_uri": "https://localhost:8080/",
					"height": 81
				},
				"execution": {
					"iopub.execute_input": "2023-12-07T00:42:45.786869Z",
					"iopub.status.busy": "2023-12-07T00:42:45.786743Z",
					"iopub.status.idle": "2023-12-07T00:42:45.790822Z",
					"shell.execute_reply": "2023-12-07T00:42:45.790557Z"
				},
				"id": "ogKNFwVQr392",
				"outputId": "1917d0dd-1d3b-441c-f00b-5a922eb2452b"
			},
			"outputs": [],
			"source": [
				"model"
			]
		},
		{
			"attachments": {},
			"cell_type": "markdown",
			"metadata": {
				"id": "d-6R1KcrlsXD"
			},
			"source": [
				"```{important}\n",
				"All scvi-tools models run faster when using a GPU. By default, scvi-tools will use a GPU if one is found to be available. Please see the installation page for more information about installing scvi-tools when a GPU is available.\n",
				"```\n"
			]
		},
		{
			"cell_type": "code",
			"execution_count": null,
			"metadata": {},
			"outputs": [],
			"source": [
				"model_dir = os.path.join(data_directory, \"scvi_model\")"
			]
		},
		{
			"cell_type": "code",
			"execution_count": null,
			"metadata": {},
			"outputs": [],
			"source": [
				"# If a scVI model does not exists, train a new one. If one does exist, load it\n",
				"\n",
				"if not os.path.exists(os.path.join(model_dir, \"model.pt\")):\n",
				"    if not os.path.exists(model_dir):\n",
				"        os.makedirs(model_dir)\n",
				"\n",
				"    # Train the model\n",
				"    model.train()\n",
				"\n",
				"    # Save the scVI trained model\n",
				"    model.save(model_dir)\n",
				"\n",
				"else:\n",
				"    model = scvi.model.SCVI.load(model_dir, adata)\n",
				"\n",
				"    # model = scvi.model.SCVI.load(\"scRNA-seq/analysis/runs/run_020/models/Res_1/scVI_Run020_Res1.model\", adata)\n",
				"\n",
				"model"
			]
		},
		{
			"cell_type": "markdown",
			"metadata": {
				"id": "iVy8Eo1-Z0be"
			},
			"source": [
				"## Obtaining model outputs\n"
			]
		},
		{
			"cell_type": "markdown",
			"metadata": {
				"id": "Cgnqal7kvArn"
			},
			"source": [
				"It's often useful to store the outputs of scvi-tools back into the original anndata, as it permits interoperability with Scanpy.\n"
			]
		},
		{
			"cell_type": "code",
			"execution_count": null,
			"metadata": {
				"execution": {
					"iopub.execute_input": "2023-12-07T00:47:07.160894Z",
					"iopub.status.busy": "2023-12-07T00:47:07.160760Z",
					"iopub.status.idle": "2023-12-07T00:47:07.328122Z",
					"shell.execute_reply": "2023-12-07T00:47:07.327776Z"
				},
				"id": "nXFAjVazvHj7"
			},
			"outputs": [],
			"source": [
				"SCVI_LATENT_KEY = \"X_scVI\"\n",
				"\n",
				"latent = model.get_latent_representation()\n",
				"adata.obsm[SCVI_LATENT_KEY] = latent\n",
				"latent.shape"
			]
		},
		{
			"cell_type": "markdown",
			"metadata": {
				"id": "merbABa3u8rg"
			},
			"source": [
				"The `model.get...()` functions default to using the AnnData that was used to initialize the model. It's possible to also query a subset of the anndata, or even use a completely independent anndata object as long as the anndata is organized in an equivalent fashion.\n"
			]
		},
		{
			"cell_type": "code",
			"execution_count": null,
			"metadata": {
				"colab": {
					"base_uri": "https://localhost:8080/"
				},
				"execution": {
					"iopub.execute_input": "2023-12-07T00:47:07.329592Z",
					"iopub.status.busy": "2023-12-07T00:47:07.329484Z",
					"iopub.status.idle": "2023-12-07T00:47:07.377960Z",
					"shell.execute_reply": "2023-12-07T00:47:07.377513Z"
				},
				"id": "kHznd-ygvNt5",
				"outputId": "41ff4f7d-4d2b-4aab-a483-78ec4865b323"
			},
			"outputs": [],
			"source": [
				"adata_subset = adata[adata.obs.cell_type == \"Fibroblast\"]\n",
				"latent_subset = model.get_latent_representation(adata_subset)\n",
				"latent.shape"
			]
		},
		{
			"cell_type": "code",
			"execution_count": null,
			"metadata": {
				"colab": {
					"base_uri": "https://localhost:8080/",
					"height": 241
				},
				"execution": {
					"iopub.execute_input": "2023-12-07T00:47:07.379498Z",
					"iopub.status.busy": "2023-12-07T00:47:07.379364Z",
					"iopub.status.idle": "2023-12-07T00:47:07.429509Z",
					"shell.execute_reply": "2023-12-07T00:47:07.429180Z"
				},
				"id": "NCUXYiZov0uH",
				"outputId": "e570656d-e291-4f37-d052-6056ddf02c93"
			},
			"outputs": [],
			"source": [
				"denoised = model.get_normalized_expression(adata_subset, library_size=1e4)\n",
				"denoised.iloc[:5, :5]"
			]
		},
		{
			"cell_type": "markdown",
			"metadata": {
				"id": "E3jkmBUa6L_N"
			},
			"source": [
				"Let's store the normalized values back in the anndata.\n"
			]
		},
		{
			"cell_type": "code",
			"execution_count": null,
			"metadata": {
				"execution": {
					"iopub.execute_input": "2023-12-07T00:47:07.431049Z",
					"iopub.status.busy": "2023-12-07T00:47:07.430906Z",
					"iopub.status.idle": "2023-12-07T00:47:07.750257Z",
					"shell.execute_reply": "2023-12-07T00:47:07.749877Z"
				},
				"id": "pa4xQzkv6Ov_"
			},
			"outputs": [],
			"source": [
				"SCVI_NORMALIZED_KEY = \"scvi_normalized\"\n",
				"\n",
				"adata.layers[SCVI_NORMALIZED_KEY] = model.get_normalized_expression(library_size=10e4)"
			]
		},
		{
			"cell_type": "markdown",
			"metadata": {
				"id": "KRbBVO2RZ0bk"
			},
			"source": [
				"## Interoperability with Scanpy\n"
			]
		},
		{
			"cell_type": "markdown",
			"metadata": {
				"id": "Vbo5AUQ5Z0bk"
			},
			"source": [
				"Scanpy is a powerful python library for visualization and downstream analysis of scRNA-seq data. We show here how to feed the objects produced by scvi-tools into a scanpy workflow.\n"
			]
		},
		{
			"cell_type": "markdown",
			"metadata": {
				"id": "Vmzz9xHWnAfB"
			},
			"source": [
				"### Visualization without batch correction\n"
			]
		},
		{
			"attachments": {},
			"cell_type": "markdown",
			"metadata": {
				"id": "MZwQThmmktJY"
			},
			"source": [
				"```{warning}\n",
				"We use UMAP to *qualitatively* assess our low-dimension embeddings of cells. We do not advise using UMAP or any similar approach quantitatively. We do recommend using the embeddings produced by scVI as a plug-in replacement of what you would get from PCA, as we show below.\n",
				"```\n"
			]
		},
		{
			"cell_type": "markdown",
			"metadata": {
				"id": "y7Uvi9YpnAfB"
			},
			"source": [
				"First, we demonstrate the presence of nuisance variation with respect to nuclei/whole cell, age group, and donor by plotting the UMAP results of the top 30 PCA components for the raw count data.\n"
			]
		},
		{
			"cell_type": "code",
			"execution_count": null,
			"metadata": {
				"execution": {
					"iopub.execute_input": "2023-12-07T00:47:07.752201Z",
					"iopub.status.busy": "2023-12-07T00:47:07.752059Z",
					"iopub.status.idle": "2023-12-07T00:47:34.892955Z",
					"shell.execute_reply": "2023-12-07T00:47:34.892460Z"
				},
				"id": "S_IJVCZknAfC"
			},
			"outputs": [],
			"source": [
				"# run PCA then generate UMAP plots\n",
				"sc.tl.pca(adata)\n",
				"sc.pp.neighbors(adata, n_pcs=30, n_neighbors=20)\n",
				"sc.tl.umap(adata, min_dist=0.3)"
			]
		},
		{
			"cell_type": "code",
			"execution_count": null,
			"metadata": {
				"colab": {
					"base_uri": "https://localhost:8080/",
					"height": 610
				},
				"execution": {
					"iopub.execute_input": "2023-12-07T00:47:34.894754Z",
					"iopub.status.busy": "2023-12-07T00:47:34.894641Z",
					"iopub.status.idle": "2023-12-07T00:47:35.656928Z",
					"shell.execute_reply": "2023-12-07T00:47:35.656446Z"
				},
				"id": "52-EnJ9XnAfC",
				"outputId": "e6ec72da-62f9-4b36-b0d0-544dc26d60b0"
			},
			"outputs": [],
			"source": [
				"sc.pl.umap(\n",
				"    adata,\n",
				"    color=[\"cell_type\"],\n",
				"    frameon=False,\n",
				")\n",
				"sc.pl.umap(\n",
				"    adata,\n",
				"    color=[\"donor\", \"cell_source\"],\n",
				"    ncols=2,\n",
				"    frameon=False,\n",
				")"
			]
		},
		{
			"cell_type": "markdown",
			"metadata": {
				"id": "_qf-GPesnAfD"
			},
			"source": [
				"We see that while the cell types are generally well separated, nuisance variation plays a large part in the variation of the data.\n"
			]
		},
		{
			"cell_type": "markdown",
			"metadata": {
				"id": "L1fkByXCnAfD"
			},
			"source": [
				"### Visualization with batch correction (scVI)\n"
			]
		},
		{
			"cell_type": "markdown",
			"metadata": {
				"id": "2NibCVe-nAfD"
			},
			"source": [
				"Now, let us try using the scVI latent space to generate the same UMAP plots to see if scVI successfully accounts for batch effects in the data.\n"
			]
		},
		{
			"cell_type": "code",
			"execution_count": null,
			"metadata": {
				"execution": {
					"iopub.execute_input": "2023-12-07T00:47:35.659028Z",
					"iopub.status.busy": "2023-12-07T00:47:35.658919Z",
					"iopub.status.idle": "2023-12-07T00:47:43.447846Z",
					"shell.execute_reply": "2023-12-07T00:47:43.447375Z"
				},
				"id": "AAABjrJswQ9E"
			},
			"outputs": [],
			"source": [
				"# use scVI latent space for UMAP generation\n",
				"sc.pp.neighbors(adata, use_rep=SCVI_LATENT_KEY)\n",
				"sc.tl.umap(adata, min_dist=0.3)"
			]
		},
		{
			"cell_type": "code",
			"execution_count": null,
			"metadata": {
				"colab": {
					"base_uri": "https://localhost:8080/",
					"height": 610
				},
				"execution": {
					"iopub.execute_input": "2023-12-07T00:47:43.449549Z",
					"iopub.status.busy": "2023-12-07T00:47:43.449434Z",
					"iopub.status.idle": "2023-12-07T00:47:44.023490Z",
					"shell.execute_reply": "2023-12-07T00:47:44.023051Z"
				},
				"id": "rVpefV7QZ0bp",
				"outputId": "99b78c0c-2fd3-4633-96d2-8513e383e37a"
			},
			"outputs": [],
			"source": [
				"sc.pl.umap(\n",
				"    adata,\n",
				"    color=[\"cell_type\"],\n",
				"    frameon=False,\n",
				")\n",
				"sc.pl.umap(\n",
				"    adata,\n",
				"    color=[\"donor\", \"cell_source\"],\n",
				"    ncols=2,\n",
				"    frameon=False,\n",
				")"
			]
		},
		{
			"cell_type": "markdown",
			"metadata": {
				"id": "_AUihbz9nAfE"
			},
			"source": [
				"We can see that scVI was able to correct for nuisance variation due to nuclei/whole cell, age group, and donor, while maintaining separation of cell types.\n"
			]
		},
		{
			"cell_type": "markdown",
			"metadata": {
				"id": "L3EC098_nAfE"
			},
			"source": [
				"### Clustering on the scVI latent space\n"
			]
		},
		{
			"cell_type": "markdown",
			"metadata": {
				"id": "qx3Yu04GZ0br"
			},
			"source": [
				"The user will note that we imported curated labels from the original publication. Our interface with scanpy makes it easy to cluster the data with scanpy from scVI's latent space and then reinject them into scVI (e.g., for differential expression).\n"
			]
		},
		{
			"cell_type": "code",
			"execution_count": null,
			"metadata": {
				"execution": {
					"iopub.execute_input": "2023-12-07T00:47:44.025802Z",
					"iopub.status.busy": "2023-12-07T00:47:44.025671Z",
					"iopub.status.idle": "2023-12-07T00:47:47.044836Z",
					"shell.execute_reply": "2023-12-07T00:47:47.044404Z"
				},
				"id": "ME5yLdHtxHsb"
			},
			"outputs": [],
			"source": [
				"# neighbors were already computed using scVI\n",
				"SCVI_CLUSTERS_KEY = \"leiden_scVI\"\n",
				"sc.tl.leiden(adata, key_added=SCVI_CLUSTERS_KEY, resolution=0.5)"
			]
		},
		{
			"cell_type": "code",
			"execution_count": null,
			"metadata": {
				"colab": {
					"base_uri": "https://localhost:8080/",
					"height": 312
				},
				"execution": {
					"iopub.execute_input": "2023-12-07T00:47:47.046425Z",
					"iopub.status.busy": "2023-12-07T00:47:47.046311Z",
					"iopub.status.idle": "2023-12-07T00:47:47.269748Z",
					"shell.execute_reply": "2023-12-07T00:47:47.269313Z"
				},
				"id": "1tnfExusnAfE",
				"outputId": "f6bc202b-8123-4924-eb03-462aabf95084"
			},
			"outputs": [],
			"source": [
				"sc.pl.umap(\n",
				"    adata,\n",
				"    color=[SCVI_CLUSTERS_KEY],\n",
				"    frameon=False,\n",
				")"
			]
		},
		{
			"cell_type": "markdown",
			"metadata": {
				"id": "1yDDpmrcZ0bs"
			},
			"source": [
				"## Differential expression\n",
				"\n",
				"We can also use many scvi-tools models for differential expression. For further details on the methods underlying these functions as well as additional options, please see the [API docs](https://docs.scvi-tools.org/en/stable/api/reference/scvi.model.SCVI.differential_expression.html#scvi.model.SCVI.differential_expression).\n"
			]
		},
		{
			"cell_type": "code",
			"execution_count": null,
			"metadata": {
				"colab": {
					"base_uri": "https://localhost:8080/"
				},
				"execution": {
					"iopub.execute_input": "2023-12-07T00:47:47.271239Z",
					"iopub.status.busy": "2023-12-07T00:47:47.271129Z",
					"iopub.status.idle": "2023-12-07T00:47:47.274722Z",
					"shell.execute_reply": "2023-12-07T00:47:47.274370Z"
				},
				"id": "zaXI-F71yK6O",
				"outputId": "46aa60af-8cd9-4542-fea6-745b3cfd6562"
			},
			"outputs": [],
			"source": [
				"adata.obs.cell_type.head()"
			]
		},
		{
			"cell_type": "markdown",
			"metadata": {
				"id": "K9zGxVjkyW8i"
			},
			"source": [
				"For example, a 1-vs-1 DE test is as simple as:\n"
			]
		},
		{
			"cell_type": "code",
			"execution_count": null,
			"metadata": {
				"colab": {
					"base_uri": "https://localhost:8080/",
					"height": 375
				},
				"execution": {
					"iopub.execute_input": "2023-12-07T00:47:47.276257Z",
					"iopub.status.busy": "2023-12-07T00:47:47.276040Z",
					"iopub.status.idle": "2023-12-07T00:47:47.621815Z",
					"shell.execute_reply": "2023-12-07T00:47:47.621483Z"
				},
				"id": "3eUeH87Vxd_O",
				"outputId": "6c1deeae-56fe-414e-af29-12097e48c0b0"
			},
			"outputs": [],
			"source": [
				"de_df = model.differential_expression(\n",
				"    groupby=\"cell_type\", group1=\"Endothelial\", group2=\"Fibroblast\"\n",
				")\n",
				"de_df.head()"
			]
		},
		{
			"cell_type": "markdown",
			"metadata": {
				"id": "Sleqtm9gyn--"
			},
			"source": [
				"We can also do a 1-vs-all DE test, which compares each cell type with the rest of the dataset:\n"
			]
		},
		{
			"cell_type": "code",
			"execution_count": null,
			"metadata": {
				"colab": {
					"base_uri": "https://localhost:8080/",
					"height": 375
				},
				"execution": {
					"iopub.execute_input": "2023-12-07T00:47:47.623351Z",
					"iopub.status.busy": "2023-12-07T00:47:47.623208Z",
					"iopub.status.idle": "2023-12-07T00:47:52.899872Z",
					"shell.execute_reply": "2023-12-07T00:47:52.899542Z"
				},
				"id": "V_liqTCeyne6",
				"outputId": "5738cc0f-73b4-41e5-f4a0-935dc5ecd547"
			},
			"outputs": [],
			"source": [
				"de_df = model.differential_expression(\n",
				"    groupby=\"cell_type\",\n",
				")\n",
				"de_df.head()"
			]
		},
		{
			"cell_type": "markdown",
			"metadata": {
				"id": "LubZQGeG00A4"
			},
			"source": [
				"We now extract top markers for each cluster using the DE results.\n"
			]
		},
		{
			"cell_type": "code",
			"execution_count": null,
			"metadata": {
				"execution": {
					"iopub.execute_input": "2023-12-07T00:47:52.901418Z",
					"iopub.status.busy": "2023-12-07T00:47:52.901274Z",
					"iopub.status.idle": "2023-12-07T00:47:52.920143Z",
					"shell.execute_reply": "2023-12-07T00:47:52.919832Z"
				},
				"id": "NSss20tkyV7l"
			},
			"outputs": [],
			"source": [
				"markers = {}\n",
				"cats = adata.obs.cell_type.cat.categories\n",
				"for i, c in enumerate(cats):\n",
				"    cid = f\"{c} vs Rest\"\n",
				"    cell_type_df = de_df.loc[de_df.comparison == cid]\n",
				"\n",
				"    cell_type_df = cell_type_df[cell_type_df.lfc_mean > 0]\n",
				"\n",
				"    cell_type_df = cell_type_df[cell_type_df[\"bayes_factor\"] > 3]\n",
				"    cell_type_df = cell_type_df[cell_type_df[\"non_zeros_proportion1\"] > 0.1]\n",
				"\n",
				"    markers[c] = cell_type_df.index.tolist()[:3]"
			]
		},
		{
			"cell_type": "code",
			"execution_count": null,
			"metadata": {
				"execution": {
					"iopub.execute_input": "2023-12-07T00:47:52.921626Z",
					"iopub.status.busy": "2023-12-07T00:47:52.921367Z",
					"iopub.status.idle": "2023-12-07T00:47:52.926781Z",
					"shell.execute_reply": "2023-12-07T00:47:52.926503Z"
				},
				"id": "j0j7HlUizL4r"
			},
			"outputs": [],
			"source": [
				"sc.tl.dendrogram(adata, groupby=\"cell_type\", use_rep=\"X_scVI\")"
			]
		},
		{
			"cell_type": "code",
			"execution_count": null,
			"metadata": {
				"colab": {
					"base_uri": "https://localhost:8080/",
					"height": 1000
				},
				"execution": {
					"iopub.execute_input": "2023-12-07T00:47:52.928072Z",
					"iopub.status.busy": "2023-12-07T00:47:52.927967Z",
					"iopub.status.idle": "2023-12-07T00:47:53.322480Z",
					"shell.execute_reply": "2023-12-07T00:47:53.322023Z"
				},
				"id": "SEufcjlGzGV1",
				"outputId": "009e7e95-c96e-4f77-8529-a45df58fe57d"
			},
			"outputs": [],
			"source": [
				"sc.pl.dotplot(\n",
				"    adata,\n",
				"    markers,\n",
				"    groupby=\"cell_type\",\n",
				"    dendrogram=True,\n",
				"    color_map=\"Blues\",\n",
				"    swap_axes=True,\n",
				"    use_raw=True,\n",
				"    standard_scale=\"var\",\n",
				")"
			]
		},
		{
			"cell_type": "markdown",
			"metadata": {
				"id": "0FOGu9jd6wGq"
			},
			"source": [
				"We can also visualize the scVI normalized gene expression values with the `layer` option.\n"
			]
		},
		{
			"cell_type": "code",
			"execution_count": null,
			"metadata": {
				"colab": {
					"base_uri": "https://localhost:8080/",
					"height": 1000
				},
				"execution": {
					"iopub.execute_input": "2023-12-07T00:47:53.324207Z",
					"iopub.status.busy": "2023-12-07T00:47:53.324093Z",
					"iopub.status.idle": "2023-12-07T00:47:53.797026Z",
					"shell.execute_reply": "2023-12-07T00:47:53.796586Z"
				},
				"id": "LuRDlmTg6YFL",
				"outputId": "a4da0194-ce1b-45f8-e97f-625426bb9970"
			},
			"outputs": [],
			"source": [
				"sc.pl.heatmap(\n",
				"    adata,\n",
				"    markers,\n",
				"    groupby=\"cell_type\",\n",
				"    layer=\"scvi_normalized\",\n",
				"    standard_scale=\"var\",\n",
				"    dendrogram=True,\n",
				"    figsize=(8, 12),\n",
				")"
			]
		},
		{
			"cell_type": "markdown",
			"metadata": {
				"id": "LGCH09lMZ0cO"
			},
			"source": [
				"## Logging information\n",
				"\n",
				"Verbosity varies in the following way:\n",
				"\n",
				"-   `logger.setLevel(logging.WARNING)` will show a progress bar.\n",
				"-   `logger.setLevel(logging.INFO)` will show global logs including the number of jobs done.\n",
				"-   `logger.setLevel(logging.DEBUG)` will show detailed logs for each training (e.g the parameters tested).\n",
				"\n",
				"This function's behaviour can be customized, please refer to its documentation for information about the different parameters available.\n",
				"\n",
				"In general, you can use `scvi.settings.verbosity` to set the verbosity of the scvi package.\n",
				"Note that `verbosity` corresponds to the logging levels of the standard python `logging` module. By default, that verbosity level is set to `INFO` (=20).\n",
				"As a reminder the logging levels are:\n",
				"\n",
				"<table class=\"docutils align-center\">\n",
				"<colgroup>\n",
				"<col style=\"width: 48%\">\n",
				"<col style=\"width: 52%\">\n",
				"</colgroup>\n",
				"<thead>\n",
				"<tr class=\"row-odd\"><th class=\"head\"><p>Level</p></th>\n",
				"<th class=\"head\"><p>Numeric value</p></th>\n",
				"</tr>\n",
				"</thead>\n",
				"<tbody>\n",
				"<tr class=\"row-even\"><td><p><code class=\"docutils literal notranslate\"><span class=\"pre\">CRITICAL</span></code></p></td>\n",
				"<td><p>50</p></td>\n",
				"</tr>\n",
				"<tr class=\"row-odd\"><td><p><code class=\"docutils literal notranslate\"><span class=\"pre\">ERROR</span></code></p></td>\n",
				"<td><p>40</p></td>\n",
				"</tr>\n",
				"<tr class=\"row-even\"><td><p><code class=\"docutils literal notranslate\"><span class=\"pre\">WARNING</span></code></p></td>\n",
				"<td><p>30</p></td>\n",
				"</tr>\n",
				"<tr class=\"row-odd\"><td><p><code class=\"docutils literal notranslate\"><span class=\"pre\">INFO</span></code></p></td>\n",
				"<td><p>20</p></td>\n",
				"</tr>\n",
				"<tr class=\"row-even\"><td><p><code class=\"docutils literal notranslate\"><span class=\"pre\">DEBUG</span></code></p></td>\n",
				"<td><p>10</p></td>\n",
				"</tr>\n",
				"<tr class=\"row-odd\"><td><p><code class=\"docutils literal notranslate\"><span class=\"pre\">NOTSET</span></code></p></td>\n",
				"<td><p>0</p></td>\n",
				"</tr>\n",
				"</tbody>\n",
				"</table>\n"
			]
		},
		{
			"cell_type": "markdown",
			"metadata": {},
			"source": [
				"## Clean up\n",
				"\n",
				"Uncomment the following line to remove all data files created in this tutorial:\n"
			]
		},
		{
			"cell_type": "code",
			"execution_count": null,
			"metadata": {
				"execution": {
					"iopub.execute_input": "2023-12-07T00:47:53.799217Z",
					"iopub.status.busy": "2023-12-07T00:47:53.799103Z",
					"iopub.status.idle": "2023-12-07T00:47:53.801342Z",
					"shell.execute_reply": "2023-12-07T00:47:53.800946Z"
				}
			},
			"outputs": [],
			"source": [
				"save_dir.cleanup()"
			]
		},
		{
			"cell_type": "markdown",
			"metadata": {},
			"source": [
				"## Licenses\n",
				"\n",
				"### MIT License - Pranav Kumar Mishra\n",
				"```\n",
				"Copyright 2024 Pranav Kumar Mishra\n",
				"\n",
				"Permission is hereby granted, free of charge, to any person obtaining a copy of\n",
				"this software and associated documentation files (the “Software”), to deal in\n",
				"the Software without restriction, including without limitation the rights to\n",
				"use, copy, modify, merge, publish, distribute, sublicense, and/or sell copies\n",
				"of the Software, and to permit persons to whom the Software is furnished to do\n",
				"so, subject to the following conditions:\n",
				"\n",
				"The above copyright notice and this permission notice shall be included in all\n",
				"copies or substantial portions of the Software.\n",
				"\n",
				"THE SOFTWARE IS PROVIDED “AS IS”, WITHOUT WARRANTY OF ANY KIND, EXPRESS OR\n",
				"IMPLIED, INCLUDING BUT NOT LIMITED TO THE WARRANTIES OF MERCHANTABILITY,\n",
				"FITNESS FOR A PARTICULAR PURPOSE AND NONINFRINGEMENT. IN NO EVENT SHALL THE\n",
				"AUTHORS OR COPYRIGHT HOLDERS BE LIABLE FOR ANY CLAIM, DAMAGES OR OTHER\n",
				"LIABILITY, WHETHER IN AN ACTION OF CONTRACT, TORT OR OTHERWISE, ARISING FROM,\n",
				"OUT OF OR IN CONNECTION WITH THE SOFTWARE OR THE USE OR OTHER DEALINGS IN THE\n",
				"SOFTWARE.\n",
				"\n",
				"```\n",
				"\n",
				"\n",
				"### BSD3 License - YosefLab\n",
				"\n",
				"```\n",
				"BSD 3-Clause License\n",
				"\n",
				"Copyright (c) 2020, YosefLab\n",
				"All rights reserved.\n",
				"\n",
				"Redistribution and use in source and binary forms, with or without\n",
				"modification, are permitted provided that the following conditions are met:\n",
				"\n",
				"1. Redistributions of source code must retain the above copyright notice, this\n",
				"   list of conditions and the following disclaimer.\n",
				"\n",
				"2. Redistributions in binary form must reproduce the above copyright notice,\n",
				"   this list of conditions and the following disclaimer in the documentation\n",
				"   and/or other materials provided with the distribution.\n",
				"\n",
				"3. Neither the name of the copyright holder nor the names of its\n",
				"   contributors may be used to endorse or promote products derived from\n",
				"   this software without specific prior written permission.\n",
				"\n",
				"THIS SOFTWARE IS PROVIDED BY THE COPYRIGHT HOLDERS AND CONTRIBUTORS \"AS IS\"\n",
				"AND ANY EXPRESS OR IMPLIED WARRANTIES, INCLUDING, BUT NOT LIMITED TO, THE\n",
				"IMPLIED WARRANTIES OF MERCHANTABILITY AND FITNESS FOR A PARTICULAR PURPOSE ARE\n",
				"DISCLAIMED. IN NO EVENT SHALL THE COPYRIGHT HOLDER OR CONTRIBUTORS BE LIABLE\n",
				"FOR ANY DIRECT, INDIRECT, INCIDENTAL, SPECIAL, EXEMPLARY, OR CONSEQUENTIAL\n",
				"DAMAGES (INCLUDING, BUT NOT LIMITED TO, PROCUREMENT OF SUBSTITUTE GOODS OR\n",
				"SERVICES; LOSS OF USE, DATA, OR PROFITS; OR BUSINESS INTERRUPTION) HOWEVER\n",
				"CAUSED AND ON ANY THEORY OF LIABILITY, WHETHER IN CONTRACT, STRICT LIABILITY,\n",
				"OR TORT (INCLUDING NEGLIGENCE OR OTHERWISE) ARISING IN ANY WAY OUT OF THE USE\n",
				"OF THIS SOFTWARE, EVEN IF ADVISED OF THE POSSIBILITY OF SUCH DAMAGE.\n",
				"```\n"
			]
		}
	],
	"metadata": {
		"accelerator": "GPU",
		"colab": {
			"collapsed_sections": [],
			"name": "api_overview.ipynb",
			"provenance": []
		},
		"kernelspec": {
			"display_name": "Python 3",
			"language": "python",
			"name": "python3"
		},
		"language_info": {
			"codemirror_mode": {
				"name": "ipython",
				"version": 3
			},
			"file_extension": ".py",
			"mimetype": "text/x-python",
			"name": "python",
			"nbconvert_exporter": "python",
			"pygments_lexer": "ipython3",
			"version": "3.11.9"
		},
		"pycharm": {
			"stem_cell": {
				"cell_type": "raw",
				"metadata": {
					"collapsed": false
				},
				"source": []
			}
		},
		"toc": {
			"base_numbering": 1,
			"nav_menu": {},
			"number_sections": true,
			"sideBar": true,
			"skip_h1_title": false,
			"title_cell": "Table of Contents",
			"title_sidebar": "Contents",
			"toc_cell": false,
			"toc_position": {},
			"toc_section_display": true,
			"toc_window_display": false
		},
		"vscode": {
			"interpreter": {
				"hash": "e7370f93d1d0cde622a1f8e1c04877d8463912d04d973331ad4851f04de6915a"
			}
		}
	},
	"nbformat": 4,
	"nbformat_minor": 0
}
